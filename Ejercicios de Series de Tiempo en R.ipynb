{
 "cells": [
  {
   "cell_type": "markdown",
   "metadata": {},
   "source": [
    "# Series de Tiempo"
   ]
  },
  {
   "cell_type": "markdown",
   "metadata": {},
   "source": [
    "## Series de Tiempo en la APN"
   ]
  },
  {
   "cell_type": "markdown",
   "metadata": {},
   "source": [
    "Una API REST es un servicio web que permite hacer consultas a una base de datos o aplicación en línea. Muchas APIs pueden usarse simplemente como una URL configurable / parametrizable en el navegador.\n",
    "\n",
    "La Administración Pública Nacional dispone de APIs de datos en las que todos los organismos pueden publicar: https://apis.datos.gob.ar\n",
    "\n",
    "Una de ellas permite consultar indicadores con evolución temporal de distintos ministerios (actualmente +20 mil series):\n",
    "\n",
    "* **Documentación API**: https://apis.datos.gob.ar/series\n",
    "* **Buscador web de series**: http://datos.gob.ar/series (permite buscar los ids de las series deseadas)\n",
    "\n",
    "El buscador permite llevarse una URL a la API que descarga un CSV actualizado de los indicadores elegidos:\n",
    "\n",
    "* **Tipo de cambio vendedor BNA**: http://apis.datos.gob.ar/series/api/series/?limit=1000&ids=168.1_T_CAMBIOR_D_0_0_26&format=csv\n",
    "* **IPC Nacional. Nivel General**: http://apis.datos.gob.ar/series/api/series/?limit=1000&ids=148.3_INIVELNAL_DICI_M_26&format=csv\n",
    "* **EMAE**: http://apis.datos.gob.ar/series/api/series/?limit=1000&ids=143.3_NO_PR_2004_A_21&format=csv\n",
    "\n",
    "Como te podrás imaginar, `limit`, `ids` y `format` son algunos de esos parámetros que te permiten personalizar la consulta:\n",
    "\n",
    "* `ids`: el parámetro más importante! Permite pedir una lista de series por id, separados por comas.\n",
    "* `format`: puede ser \"csv\" o \"json\".\n",
    "* `limit`: por default la API devuelve 100 filas, pero se puede extender hasta 1000.\n",
    "\n",
    "En la mayoría de las APIs REST, los parámetros empiezan después del `?` y se separan por `&`.\n",
    "\n",
    "![](ejemplo_consulta.png)"
   ]
  },
  {
   "cell_type": "markdown",
   "metadata": {},
   "source": [
    "## Time series dataframes"
   ]
  },
  {
   "cell_type": "markdown",
   "metadata": {},
   "source": [
    "### Descargar CSVs de la API de series de tiempo"
   ]
  },
  {
   "cell_type": "markdown",
   "metadata": {},
   "source": [
    "a. Descargar el IPC en un dataframe de R. Hint: `df = read.csv(*)` "
   ]
  },
  {
   "cell_type": "code",
   "execution_count": 1,
   "metadata": {},
   "outputs": [
    {
     "data": {
      "text/html": [
       "<table>\n",
       "<thead><tr><th></th><th scope=col>indice_tiempo</th><th scope=col>ipc_nivel_general_nacional</th></tr></thead>\n",
       "<tbody>\n",
       "\t<tr><th scope=row>17</th><td>2018-04-01</td><td>136.7512  </td></tr>\n",
       "\t<tr><th scope=row>18</th><td>2018-05-01</td><td>139.5893  </td></tr>\n",
       "\t<tr><th scope=row>19</th><td>2018-06-01</td><td>144.8053  </td></tr>\n",
       "\t<tr><th scope=row>20</th><td>2018-07-01</td><td>149.2966  </td></tr>\n",
       "\t<tr><th scope=row>21</th><td>2018-08-01</td><td>155.1034  </td></tr>\n",
       "\t<tr><th scope=row>22</th><td>2018-09-01</td><td>165.2383  </td></tr>\n",
       "</tbody>\n",
       "</table>\n"
      ],
      "text/latex": [
       "\\begin{tabular}{r|ll}\n",
       "  & indice\\_tiempo & ipc\\_nivel\\_general\\_nacional\\\\\n",
       "\\hline\n",
       "\t17 & 2018-04-01 & 136.7512  \\\\\n",
       "\t18 & 2018-05-01 & 139.5893  \\\\\n",
       "\t19 & 2018-06-01 & 144.8053  \\\\\n",
       "\t20 & 2018-07-01 & 149.2966  \\\\\n",
       "\t21 & 2018-08-01 & 155.1034  \\\\\n",
       "\t22 & 2018-09-01 & 165.2383  \\\\\n",
       "\\end{tabular}\n"
      ],
      "text/markdown": [
       "\n",
       "| <!--/--> | indice_tiempo | ipc_nivel_general_nacional | \n",
       "|---|---|---|---|---|---|\n",
       "| 17 | 2018-04-01 | 136.7512   | \n",
       "| 18 | 2018-05-01 | 139.5893   | \n",
       "| 19 | 2018-06-01 | 144.8053   | \n",
       "| 20 | 2018-07-01 | 149.2966   | \n",
       "| 21 | 2018-08-01 | 155.1034   | \n",
       "| 22 | 2018-09-01 | 165.2383   | \n",
       "\n",
       "\n"
      ],
      "text/plain": [
       "   indice_tiempo ipc_nivel_general_nacional\n",
       "17 2018-04-01    136.7512                  \n",
       "18 2018-05-01    139.5893                  \n",
       "19 2018-06-01    144.8053                  \n",
       "20 2018-07-01    149.2966                  \n",
       "21 2018-08-01    155.1034                  \n",
       "22 2018-09-01    165.2383                  "
      ]
     },
     "metadata": {},
     "output_type": "display_data"
    }
   ],
   "source": [
    "df = read.csv(\"http://apis.datos.gob.ar/series/api/series/?limit=1000&ids=148.3_INIVELNAL_DICI_M_26&format=csv\")\n",
    "tail(df)"
   ]
  },
  {
   "cell_type": "markdown",
   "metadata": {},
   "source": [
    "b. Descargar el Estimador Mensual de la Actividad Económica (EMAE) general, de la Construcción y de la Industria Manufacturera en el mismo dataframe. Hint: `ids=*,*,*.` "
   ]
  },
  {
   "cell_type": "code",
   "execution_count": 2,
   "metadata": {},
   "outputs": [
    {
     "data": {
      "text/html": [
       "<table>\n",
       "<thead><tr><th></th><th scope=col>indice_tiempo</th><th scope=col>indice_serie_original</th><th scope=col>industria_manufacturera</th><th scope=col>construccion</th></tr></thead>\n",
       "<tbody>\n",
       "\t<tr><th scope=row>171</th><td>2018-03-01</td><td>155.6816  </td><td>134.2285  </td><td>160.7265  </td></tr>\n",
       "\t<tr><th scope=row>172</th><td>2018-04-01</td><td>152.7067  </td><td>130.3412  </td><td>150.3414  </td></tr>\n",
       "\t<tr><th scope=row>173</th><td>2018-05-01</td><td>161.5906  </td><td>140.0652  </td><td>155.4314  </td></tr>\n",
       "\t<tr><th scope=row>174</th><td>2018-06-01</td><td>151.2358  </td><td>128.5660  </td><td>149.6231  </td></tr>\n",
       "\t<tr><th scope=row>175</th><td>2018-07-01</td><td>147.2753  </td><td>130.8963  </td><td>151.7200  </td></tr>\n",
       "\t<tr><th scope=row>176</th><td>2018-08-01</td><td>146.4046  </td><td>132.6932  </td><td>161.1219  </td></tr>\n",
       "</tbody>\n",
       "</table>\n"
      ],
      "text/latex": [
       "\\begin{tabular}{r|llll}\n",
       "  & indice\\_tiempo & indice\\_serie\\_original & industria\\_manufacturera & construccion\\\\\n",
       "\\hline\n",
       "\t171 & 2018-03-01 & 155.6816   & 134.2285   & 160.7265  \\\\\n",
       "\t172 & 2018-04-01 & 152.7067   & 130.3412   & 150.3414  \\\\\n",
       "\t173 & 2018-05-01 & 161.5906   & 140.0652   & 155.4314  \\\\\n",
       "\t174 & 2018-06-01 & 151.2358   & 128.5660   & 149.6231  \\\\\n",
       "\t175 & 2018-07-01 & 147.2753   & 130.8963   & 151.7200  \\\\\n",
       "\t176 & 2018-08-01 & 146.4046   & 132.6932   & 161.1219  \\\\\n",
       "\\end{tabular}\n"
      ],
      "text/markdown": [
       "\n",
       "| <!--/--> | indice_tiempo | indice_serie_original | industria_manufacturera | construccion | \n",
       "|---|---|---|---|---|---|\n",
       "| 171 | 2018-03-01 | 155.6816   | 134.2285   | 160.7265   | \n",
       "| 172 | 2018-04-01 | 152.7067   | 130.3412   | 150.3414   | \n",
       "| 173 | 2018-05-01 | 161.5906   | 140.0652   | 155.4314   | \n",
       "| 174 | 2018-06-01 | 151.2358   | 128.5660   | 149.6231   | \n",
       "| 175 | 2018-07-01 | 147.2753   | 130.8963   | 151.7200   | \n",
       "| 176 | 2018-08-01 | 146.4046   | 132.6932   | 161.1219   | \n",
       "\n",
       "\n"
      ],
      "text/plain": [
       "    indice_tiempo indice_serie_original industria_manufacturera construccion\n",
       "171 2018-03-01    155.6816              134.2285                160.7265    \n",
       "172 2018-04-01    152.7067              130.3412                150.3414    \n",
       "173 2018-05-01    161.5906              140.0652                155.4314    \n",
       "174 2018-06-01    151.2358              128.5660                149.6231    \n",
       "175 2018-07-01    147.2753              130.8963                151.7200    \n",
       "176 2018-08-01    146.4046              132.6932                161.1219    "
      ]
     },
     "metadata": {},
     "output_type": "display_data"
    }
   ],
   "source": [
    "df = read.csv(\"http://apis.datos.gob.ar/series/api/series/?limit=1000&ids=143.3_NO_PR_2004_A_21,11.3_VMASD_2004_M_23,11.3_VMATC_2004_M_12&format=csv\")\n",
    "tail(df)"
   ]
  },
  {
   "cell_type": "markdown",
   "metadata": {},
   "source": [
    "c. Descargar el tipo de cambio mínimo, promedio y máximo mensual, usando la API (sin programar para eso en R). Hint: `&collapse=month` transforma la llamada en \"mensual\" y `&ids=*:min,*:avg` indica cómo agregar los valores de esas series."
   ]
  },
  {
   "cell_type": "code",
   "execution_count": 3,
   "metadata": {},
   "outputs": [
    {
     "data": {
      "text/html": [
       "<table>\n",
       "<thead><tr><th></th><th scope=col>indice_tiempo</th><th scope=col>tipo_cambio_bna_vendedor</th><th scope=col>tipo_cambio_bna_vendedor.1</th><th scope=col>tipo_cambio_bna_vendedor.2</th></tr></thead>\n",
       "<tbody>\n",
       "\t<tr><th scope=row>44</th><td>2018-06-01</td><td>24.90     </td><td>26.67433  </td><td>28.85     </td></tr>\n",
       "\t<tr><th scope=row>45</th><td>2018-07-01</td><td>27.21     </td><td>27.60765  </td><td>28.85     </td></tr>\n",
       "\t<tr><th scope=row>46</th><td>2018-08-01</td><td>27.29     </td><td>29.93758  </td><td>37.60     </td></tr>\n",
       "\t<tr><th scope=row>47</th><td>2018-09-01</td><td>36.85     </td><td>38.49607  </td><td>41.25     </td></tr>\n",
       "\t<tr><th scope=row>48</th><td>2018-10-01</td><td>35.95     </td><td>37.03032  </td><td>39.60     </td></tr>\n",
       "\t<tr><th scope=row>49</th><td>2018-11-01</td><td>35.67     </td><td>      NA  </td><td>35.67     </td></tr>\n",
       "</tbody>\n",
       "</table>\n"
      ],
      "text/latex": [
       "\\begin{tabular}{r|llll}\n",
       "  & indice\\_tiempo & tipo\\_cambio\\_bna\\_vendedor & tipo\\_cambio\\_bna\\_vendedor.1 & tipo\\_cambio\\_bna\\_vendedor.2\\\\\n",
       "\\hline\n",
       "\t44 & 2018-06-01 & 24.90      & 26.67433   & 28.85     \\\\\n",
       "\t45 & 2018-07-01 & 27.21      & 27.60765   & 28.85     \\\\\n",
       "\t46 & 2018-08-01 & 27.29      & 29.93758   & 37.60     \\\\\n",
       "\t47 & 2018-09-01 & 36.85      & 38.49607   & 41.25     \\\\\n",
       "\t48 & 2018-10-01 & 35.95      & 37.03032   & 39.60     \\\\\n",
       "\t49 & 2018-11-01 & 35.67      &       NA   & 35.67     \\\\\n",
       "\\end{tabular}\n"
      ],
      "text/markdown": [
       "\n",
       "| <!--/--> | indice_tiempo | tipo_cambio_bna_vendedor | tipo_cambio_bna_vendedor.1 | tipo_cambio_bna_vendedor.2 | \n",
       "|---|---|---|---|---|---|\n",
       "| 44 | 2018-06-01 | 24.90      | 26.67433   | 28.85      | \n",
       "| 45 | 2018-07-01 | 27.21      | 27.60765   | 28.85      | \n",
       "| 46 | 2018-08-01 | 27.29      | 29.93758   | 37.60      | \n",
       "| 47 | 2018-09-01 | 36.85      | 38.49607   | 41.25      | \n",
       "| 48 | 2018-10-01 | 35.95      | 37.03032   | 39.60      | \n",
       "| 49 | 2018-11-01 | 35.67      |       NA   | 35.67      | \n",
       "\n",
       "\n"
      ],
      "text/plain": [
       "   indice_tiempo tipo_cambio_bna_vendedor tipo_cambio_bna_vendedor.1\n",
       "44 2018-06-01    24.90                    26.67433                  \n",
       "45 2018-07-01    27.21                    27.60765                  \n",
       "46 2018-08-01    27.29                    29.93758                  \n",
       "47 2018-09-01    36.85                    38.49607                  \n",
       "48 2018-10-01    35.95                    37.03032                  \n",
       "49 2018-11-01    35.67                          NA                  \n",
       "   tipo_cambio_bna_vendedor.2\n",
       "44 28.85                     \n",
       "45 28.85                     \n",
       "46 37.60                     \n",
       "47 41.25                     \n",
       "48 39.60                     \n",
       "49 35.67                     "
      ]
     },
     "metadata": {},
     "output_type": "display_data"
    }
   ],
   "source": [
    "df = read.csv(\"http://apis.datos.gob.ar/series/api/series/?limit=1000&ids=168.1_T_CAMBIOR_D_0_0_26:min,168.1_T_CAMBIOR_D_0_0_26:avg,168.1_T_CAMBIOR_D_0_0_26:max&collapse=month&format=csv\")\n",
    "tail(df)"
   ]
  },
  {
   "cell_type": "markdown",
   "metadata": {},
   "source": [
    "d. Descargar el IPC, la inflación mensual y la inflación inter-anual en un mismo dataframe, usando la API (sin programar para eso en R) sólo desde 2017 en adelante. Hint: `&ids=*:percent_change,*:percent_change_a_year_ago` / `&start_date=*`."
   ]
  },
  {
   "cell_type": "code",
   "execution_count": 4,
   "metadata": {},
   "outputs": [
    {
     "data": {
      "text/html": [
       "<table>\n",
       "<thead><tr><th></th><th scope=col>indice_tiempo</th><th scope=col>ipc_nivel_general_nacional</th><th scope=col>ipc_nivel_general_nacional.1</th><th scope=col>ipc_nivel_general_nacional.2</th></tr></thead>\n",
       "<tbody>\n",
       "\t<tr><th scope=row>16</th><td>2018-04-01</td><td>136.7512  </td><td>0.02739032</td><td>0.2549816 </td></tr>\n",
       "\t<tr><th scope=row>17</th><td>2018-05-01</td><td>139.5893  </td><td>0.02075375</td><td>0.2629076 </td></tr>\n",
       "\t<tr><th scope=row>18</th><td>2018-06-01</td><td>144.8053  </td><td>0.03736676</td><td>0.2946650 </td></tr>\n",
       "\t<tr><th scope=row>19</th><td>2018-07-01</td><td>149.2966  </td><td>0.03101613</td><td>0.3120916 </td></tr>\n",
       "\t<tr><th scope=row>20</th><td>2018-08-01</td><td>155.1034  </td><td>0.03889439</td><td>0.3442611 </td></tr>\n",
       "\t<tr><th scope=row>21</th><td>2018-09-01</td><td>165.2383  </td><td>0.06534286</td><td>0.4054234 </td></tr>\n",
       "</tbody>\n",
       "</table>\n"
      ],
      "text/latex": [
       "\\begin{tabular}{r|llll}\n",
       "  & indice\\_tiempo & ipc\\_nivel\\_general\\_nacional & ipc\\_nivel\\_general\\_nacional.1 & ipc\\_nivel\\_general\\_nacional.2\\\\\n",
       "\\hline\n",
       "\t16 & 2018-04-01 & 136.7512   & 0.02739032 & 0.2549816 \\\\\n",
       "\t17 & 2018-05-01 & 139.5893   & 0.02075375 & 0.2629076 \\\\\n",
       "\t18 & 2018-06-01 & 144.8053   & 0.03736676 & 0.2946650 \\\\\n",
       "\t19 & 2018-07-01 & 149.2966   & 0.03101613 & 0.3120916 \\\\\n",
       "\t20 & 2018-08-01 & 155.1034   & 0.03889439 & 0.3442611 \\\\\n",
       "\t21 & 2018-09-01 & 165.2383   & 0.06534286 & 0.4054234 \\\\\n",
       "\\end{tabular}\n"
      ],
      "text/markdown": [
       "\n",
       "| <!--/--> | indice_tiempo | ipc_nivel_general_nacional | ipc_nivel_general_nacional.1 | ipc_nivel_general_nacional.2 | \n",
       "|---|---|---|---|---|---|\n",
       "| 16 | 2018-04-01 | 136.7512   | 0.02739032 | 0.2549816  | \n",
       "| 17 | 2018-05-01 | 139.5893   | 0.02075375 | 0.2629076  | \n",
       "| 18 | 2018-06-01 | 144.8053   | 0.03736676 | 0.2946650  | \n",
       "| 19 | 2018-07-01 | 149.2966   | 0.03101613 | 0.3120916  | \n",
       "| 20 | 2018-08-01 | 155.1034   | 0.03889439 | 0.3442611  | \n",
       "| 21 | 2018-09-01 | 165.2383   | 0.06534286 | 0.4054234  | \n",
       "\n",
       "\n"
      ],
      "text/plain": [
       "   indice_tiempo ipc_nivel_general_nacional ipc_nivel_general_nacional.1\n",
       "16 2018-04-01    136.7512                   0.02739032                  \n",
       "17 2018-05-01    139.5893                   0.02075375                  \n",
       "18 2018-06-01    144.8053                   0.03736676                  \n",
       "19 2018-07-01    149.2966                   0.03101613                  \n",
       "20 2018-08-01    155.1034                   0.03889439                  \n",
       "21 2018-09-01    165.2383                   0.06534286                  \n",
       "   ipc_nivel_general_nacional.2\n",
       "16 0.2549816                   \n",
       "17 0.2629076                   \n",
       "18 0.2946650                   \n",
       "19 0.3120916                   \n",
       "20 0.3442611                   \n",
       "21 0.4054234                   "
      ]
     },
     "metadata": {},
     "output_type": "display_data"
    }
   ],
   "source": [
    "df = read.csv(\"http://apis.datos.gob.ar/series/api/series/?limit=1000&ids=148.3_INIVELNAL_DICI_M_26,148.3_INIVELNAL_DICI_M_26:percent_change,148.3_INIVELNAL_DICI_M_26:percent_change_a_year_ago&start_date=2017&format=csv\")\n",
    "tail(df)"
   ]
  },
  {
   "cell_type": "markdown",
   "metadata": {},
   "source": [
    "### Convertir el dataframe en uno de series de tiempo"
   ]
  },
  {
   "cell_type": "markdown",
   "metadata": {},
   "source": [
    "a. Plotear la relación entre la inflación mensual y las expectativas de inflación futura. Hint: `plot(df$*, df$*)` "
   ]
  },
  {
   "cell_type": "code",
   "execution_count": 5,
   "metadata": {},
   "outputs": [],
   "source": [
    "df = read.csv(\"http://apis.datos.gob.ar/series/api/series/?limit=1000&ids=148.3_INIVELNAL_DICI_M_26:percent_change,430.1_MEDIANA_IP_12_M_0_0_27_96&format=csv&start_date=2017\")"
   ]
  },
  {
   "cell_type": "code",
   "execution_count": 6,
   "metadata": {
    "scrolled": true
   },
   "outputs": [
    {
     "data": {
      "text/html": [
       "<table>\n",
       "<thead><tr><th scope=col>indice_tiempo</th><th scope=col>ipc_nivel_general_nacional</th><th scope=col>rem_ipc_nac_var_ia_t_12</th></tr></thead>\n",
       "<tbody>\n",
       "\t<tr><td>2017-01-01</td><td>0.01585900</td><td>0.1970    </td></tr>\n",
       "\t<tr><td>2017-02-01</td><td>0.02067216</td><td>0.1950    </td></tr>\n",
       "\t<tr><td>2017-03-01</td><td>0.02374190</td><td>0.1840    </td></tr>\n",
       "\t<tr><td>2017-04-01</td><td>0.02655830</td><td>0.1751    </td></tr>\n",
       "\t<tr><td>2017-05-01</td><td>0.01434750</td><td>0.1700    </td></tr>\n",
       "\t<tr><td>2017-06-01</td><td>0.01192073</td><td>0.1700    </td></tr>\n",
       "\t<tr><td>2017-07-01</td><td>0.01732266</td><td>0.1710    </td></tr>\n",
       "\t<tr><td>2017-08-01</td><td>0.01403258</td><td>0.1720    </td></tr>\n",
       "\t<tr><td>2017-09-01</td><td>0.01898045</td><td>0.1690    </td></tr>\n",
       "\t<tr><td>2017-10-01</td><td>0.01514733</td><td>0.1730    </td></tr>\n",
       "\t<tr><td>2017-11-01</td><td>0.01375083</td><td>0.1750    </td></tr>\n",
       "\t<tr><td>2017-12-01</td><td>0.03141974</td><td>0.1740    </td></tr>\n",
       "\t<tr><td>2018-01-01</td><td>0.01757354</td><td>0.1860    </td></tr>\n",
       "\t<tr><td>2018-02-01</td><td>0.02419034</td><td>0.1764    </td></tr>\n",
       "\t<tr><td>2018-03-01</td><td>0.02341063</td><td>0.1780    </td></tr>\n",
       "\t<tr><td>2018-04-01</td><td>0.02739032</td><td>0.1820    </td></tr>\n",
       "\t<tr><td>2018-05-01</td><td>0.02075375</td><td>0.2224    </td></tr>\n",
       "\t<tr><td>2018-06-01</td><td>0.03736676</td><td>0.2415    </td></tr>\n",
       "\t<tr><td>2018-07-01</td><td>0.03101613</td><td>0.2370    </td></tr>\n",
       "\t<tr><td>2018-08-01</td><td>0.03889439</td><td>0.3150    </td></tr>\n",
       "\t<tr><td>2018-09-01</td><td>0.06534286</td><td>0.3190    </td></tr>\n",
       "\t<tr><td>2018-10-01</td><td>        NA</td><td>0.3060    </td></tr>\n",
       "</tbody>\n",
       "</table>\n"
      ],
      "text/latex": [
       "\\begin{tabular}{r|lll}\n",
       " indice\\_tiempo & ipc\\_nivel\\_general\\_nacional & rem\\_ipc\\_nac\\_var\\_ia\\_t\\_12\\\\\n",
       "\\hline\n",
       "\t 2017-01-01 & 0.01585900 & 0.1970    \\\\\n",
       "\t 2017-02-01 & 0.02067216 & 0.1950    \\\\\n",
       "\t 2017-03-01 & 0.02374190 & 0.1840    \\\\\n",
       "\t 2017-04-01 & 0.02655830 & 0.1751    \\\\\n",
       "\t 2017-05-01 & 0.01434750 & 0.1700    \\\\\n",
       "\t 2017-06-01 & 0.01192073 & 0.1700    \\\\\n",
       "\t 2017-07-01 & 0.01732266 & 0.1710    \\\\\n",
       "\t 2017-08-01 & 0.01403258 & 0.1720    \\\\\n",
       "\t 2017-09-01 & 0.01898045 & 0.1690    \\\\\n",
       "\t 2017-10-01 & 0.01514733 & 0.1730    \\\\\n",
       "\t 2017-11-01 & 0.01375083 & 0.1750    \\\\\n",
       "\t 2017-12-01 & 0.03141974 & 0.1740    \\\\\n",
       "\t 2018-01-01 & 0.01757354 & 0.1860    \\\\\n",
       "\t 2018-02-01 & 0.02419034 & 0.1764    \\\\\n",
       "\t 2018-03-01 & 0.02341063 & 0.1780    \\\\\n",
       "\t 2018-04-01 & 0.02739032 & 0.1820    \\\\\n",
       "\t 2018-05-01 & 0.02075375 & 0.2224    \\\\\n",
       "\t 2018-06-01 & 0.03736676 & 0.2415    \\\\\n",
       "\t 2018-07-01 & 0.03101613 & 0.2370    \\\\\n",
       "\t 2018-08-01 & 0.03889439 & 0.3150    \\\\\n",
       "\t 2018-09-01 & 0.06534286 & 0.3190    \\\\\n",
       "\t 2018-10-01 &         NA & 0.3060    \\\\\n",
       "\\end{tabular}\n"
      ],
      "text/markdown": [
       "\n",
       "indice_tiempo | ipc_nivel_general_nacional | rem_ipc_nac_var_ia_t_12 | \n",
       "|---|---|---|---|---|---|---|---|---|---|---|---|---|---|---|---|---|---|---|---|---|---|\n",
       "| 2017-01-01 | 0.01585900 | 0.1970     | \n",
       "| 2017-02-01 | 0.02067216 | 0.1950     | \n",
       "| 2017-03-01 | 0.02374190 | 0.1840     | \n",
       "| 2017-04-01 | 0.02655830 | 0.1751     | \n",
       "| 2017-05-01 | 0.01434750 | 0.1700     | \n",
       "| 2017-06-01 | 0.01192073 | 0.1700     | \n",
       "| 2017-07-01 | 0.01732266 | 0.1710     | \n",
       "| 2017-08-01 | 0.01403258 | 0.1720     | \n",
       "| 2017-09-01 | 0.01898045 | 0.1690     | \n",
       "| 2017-10-01 | 0.01514733 | 0.1730     | \n",
       "| 2017-11-01 | 0.01375083 | 0.1750     | \n",
       "| 2017-12-01 | 0.03141974 | 0.1740     | \n",
       "| 2018-01-01 | 0.01757354 | 0.1860     | \n",
       "| 2018-02-01 | 0.02419034 | 0.1764     | \n",
       "| 2018-03-01 | 0.02341063 | 0.1780     | \n",
       "| 2018-04-01 | 0.02739032 | 0.1820     | \n",
       "| 2018-05-01 | 0.02075375 | 0.2224     | \n",
       "| 2018-06-01 | 0.03736676 | 0.2415     | \n",
       "| 2018-07-01 | 0.03101613 | 0.2370     | \n",
       "| 2018-08-01 | 0.03889439 | 0.3150     | \n",
       "| 2018-09-01 | 0.06534286 | 0.3190     | \n",
       "| 2018-10-01 |         NA | 0.3060     | \n",
       "\n",
       "\n"
      ],
      "text/plain": [
       "   indice_tiempo ipc_nivel_general_nacional rem_ipc_nac_var_ia_t_12\n",
       "1  2017-01-01    0.01585900                 0.1970                 \n",
       "2  2017-02-01    0.02067216                 0.1950                 \n",
       "3  2017-03-01    0.02374190                 0.1840                 \n",
       "4  2017-04-01    0.02655830                 0.1751                 \n",
       "5  2017-05-01    0.01434750                 0.1700                 \n",
       "6  2017-06-01    0.01192073                 0.1700                 \n",
       "7  2017-07-01    0.01732266                 0.1710                 \n",
       "8  2017-08-01    0.01403258                 0.1720                 \n",
       "9  2017-09-01    0.01898045                 0.1690                 \n",
       "10 2017-10-01    0.01514733                 0.1730                 \n",
       "11 2017-11-01    0.01375083                 0.1750                 \n",
       "12 2017-12-01    0.03141974                 0.1740                 \n",
       "13 2018-01-01    0.01757354                 0.1860                 \n",
       "14 2018-02-01    0.02419034                 0.1764                 \n",
       "15 2018-03-01    0.02341063                 0.1780                 \n",
       "16 2018-04-01    0.02739032                 0.1820                 \n",
       "17 2018-05-01    0.02075375                 0.2224                 \n",
       "18 2018-06-01    0.03736676                 0.2415                 \n",
       "19 2018-07-01    0.03101613                 0.2370                 \n",
       "20 2018-08-01    0.03889439                 0.3150                 \n",
       "21 2018-09-01    0.06534286                 0.3190                 \n",
       "22 2018-10-01            NA                 0.3060                 "
      ]
     },
     "metadata": {},
     "output_type": "display_data"
    }
   ],
   "source": [
    "df"
   ]
  },
  {
   "cell_type": "code",
   "execution_count": 7,
   "metadata": {},
   "outputs": [
    {
     "data": {
      "image/png": "[encoded data removed]",
      "text/plain": [
       "plot without title"
      ]
     },
     "metadata": {},
     "output_type": "display_data"
    }
   ],
   "source": [
    "plot(df$ipc_nivel_general_nacional, lag(df$rem_ipc_nac_var_ia_t_12, 0))"
   ]
  },
  {
   "cell_type": "markdown",
   "metadata": {},
   "source": [
    "b. ¿Tal vez las expectativas de inflación futura inciden con un mes de retraso en la inflación mensual real? Para esto hace falta comparar una regresión entre las dos variables, contra una en la que las expectativas están 1 mes adelantadas. Esto requiere tratar las variables como series de tiempo.\n",
    "    \n",
    "    b1. install.packages(\"dynlm\"); library(\"dynlm\") (Instala y carga una librería de regresión para series de tiempo)\n",
    "    b2. library(zoo); df_ts = read.zoo(df, index = 1, tz = \"\", format = \"%Y-%m-%d\") (Lee la primer columna como un índice de tiempo con \"zoo\")\n",
    "    b3. Regresar la inflación mensual contra las expectativas de inflación futura. Hint: summary(dynlm(df_ts$* ~ df_ts$*))\n",
    "    b3. Regresar la inflación mensual contra las expectativas de inflación futura desfasadas 1 mes antes. Hint: summary(dynlm(df_ts$* ~ lag(df_ts$*, -1))).\n",
    "    b4. Comparar los R2 de cada regresión. ¿Mejoró el % de variabilidad de la inflación mensual explicado?"
   ]
  },
  {
   "cell_type": "code",
   "execution_count": 8,
   "metadata": {},
   "outputs": [
    {
     "name": "stderr",
     "output_type": "stream",
     "text": [
      "Updating HTML index of packages in '.Library'\n",
      "Making 'packages.html' ... done\n",
      "Loading required package: zoo\n",
      "\n",
      "Attaching package: ‘zoo’\n",
      "\n",
      "The following objects are masked from ‘package:base’:\n",
      "\n",
      "    as.Date, as.Date.numeric\n",
      "\n"
     ]
    }
   ],
   "source": [
    "install.packages(\"dynlm\"); library(\"dynlm\")"
   ]
  },
  {
   "cell_type": "code",
   "execution_count": 9,
   "metadata": {},
   "outputs": [],
   "source": [
    "library(zoo); df_ts = read.zoo(df, index = 1, tz = \"\", format = \"%Y-%m-%d\")"
   ]
  },
  {
   "cell_type": "code",
   "execution_count": 10,
   "metadata": {},
   "outputs": [
    {
     "data": {
      "text/plain": [
       "\n",
       "Time series regression with \"zoo\" data:\n",
       "Start = 2017-01-01, End = 2018-09-01\n",
       "\n",
       "Call:\n",
       "dynlm(formula = df_ts$ipc_nivel_general_nacional ~ df_ts$rem_ipc_nac_var_ia_t_12)\n",
       "\n",
       "Residuals:\n",
       "      Min        1Q    Median        3Q       Max \n",
       "-0.011481 -0.004117 -0.001782  0.003908  0.014066 \n",
       "\n",
       "Coefficients:\n",
       "                               Estimate Std. Error t value Pr(>|t|)    \n",
       "(Intercept)                   -0.020611   0.007137  -2.888  0.00943 ** \n",
       "df_ts$rem_ipc_nac_var_ia_t_12  0.225352   0.035009   6.437 3.59e-06 ***\n",
       "---\n",
       "Signif. codes:  0 ‘***’ 0.001 ‘**’ 0.01 ‘*’ 0.05 ‘.’ 0.1 ‘ ’ 1\n",
       "\n",
       "Residual standard error: 0.006989 on 19 degrees of freedom\n",
       "  (0 observations deleted due to missingness)\n",
       "Multiple R-squared:  0.6856,\tAdjusted R-squared:  0.6691 \n",
       "F-statistic: 41.44 on 1 and 19 DF,  p-value: 3.594e-06\n"
      ]
     },
     "metadata": {},
     "output_type": "display_data"
    }
   ],
   "source": [
    "summary(dynlm(\n",
    "    df_ts$ipc_nivel_general_nacional ~ \n",
    "    df_ts$rem_ipc_nac_var_ia_t_12\n",
    "))"
   ]
  },
  {
   "cell_type": "code",
   "execution_count": 11,
   "metadata": {},
   "outputs": [
    {
     "data": {
      "text/plain": [
       "\n",
       "Time series regression with \"zoo\" data:\n",
       "Start = 2017-02-01, End = 2018-09-01\n",
       "\n",
       "Call:\n",
       "dynlm(formula = df_ts$ipc_nivel_general_nacional ~ lag(df_ts$rem_ipc_nac_var_ia_t_12, \n",
       "    -1))\n",
       "\n",
       "Residuals:\n",
       "       Min         1Q     Median         3Q        Max \n",
       "-0.0087399 -0.0039750 -0.0003016  0.0028987  0.0123917 \n",
       "\n",
       "Coefficients:\n",
       "                                       Estimate Std. Error t value Pr(>|t|)    \n",
       "(Intercept)                            -0.03552    0.00638  -5.568 2.76e-05 ***\n",
       "lag(df_ts$rem_ipc_nac_var_ia_t_12, -1)  0.31170    0.03249   9.593 1.69e-08 ***\n",
       "---\n",
       "Signif. codes:  0 ‘***’ 0.001 ‘**’ 0.01 ‘*’ 0.05 ‘.’ 0.1 ‘ ’ 1\n",
       "\n",
       "Residual standard error: 0.005114 on 18 degrees of freedom\n",
       "  (0 observations deleted due to missingness)\n",
       "Multiple R-squared:  0.8364,\tAdjusted R-squared:  0.8273 \n",
       "F-statistic: 92.03 on 1 and 18 DF,  p-value: 1.685e-08\n"
      ]
     },
     "metadata": {},
     "output_type": "display_data"
    }
   ],
   "source": [
    "summary(dynlm(\n",
    "    df_ts$ipc_nivel_general_nacional ~ \n",
    "    lag(df_ts$rem_ipc_nac_var_ia_t_12, -1)\n",
    "))"
   ]
  },
  {
   "cell_type": "markdown",
   "metadata": {},
   "source": [
    "# LASSO"
   ]
  },
  {
   "cell_type": "markdown",
   "metadata": {},
   "source": [
    "Sin embargo, la inflación es un fenómeno multicausal. Probablemente el mejor modelo explicativo sea uno que incluya muchas variables... La base de series de tiempo ofrece 20 mil! Si bien no tiene sentido probar con todas, habría que buscar un método que elija el mejor modelo al enfrentarse a muchas variables. (Ver tutorial de LASSO en R para más detalles: https://web.stanford.edu/~hastie/glmnet/glmnet_alpha.html )"
   ]
  },
  {
   "cell_type": "markdown",
   "metadata": {},
   "source": [
    "a. Cargar en un dataframe de series de tiempo la inflación mensual, la tasa de interés, la variación mensual del tipo de cambio nominal, las expectativas de inflación futura y el tipo de cambio real multilateral, desde 2017. Hint: `df2 = read.csv(\"https://apis.datos.gob.ar/series/api/series/?limit=1000&ids=*:percent_change,*,*:percent_change,*,*&format=csv&start_date=2017\")` "
   ]
  },
  {
   "cell_type": "code",
   "execution_count": 12,
   "metadata": {},
   "outputs": [],
   "source": [
    "df2 = read.csv(\"https://apis.datos.gob.ar/series/api/series/?limit=1000&ids=148.3_INIVELNAL_DICI_M_26:percent_change,89.2_TS_INTE_PM_0_D_16,168.1_T_CAMBIOR_D_0_0_26:percent_change,430.1_MEDIANA_IP_12_M_0_0_27_96,116.3_TCRMA_0_M_36&format=csv&start_date=2017\")"
   ]
  },
  {
   "cell_type": "code",
   "execution_count": 13,
   "metadata": {},
   "outputs": [
    {
     "data": {
      "text/html": [
       "<ol class=list-inline>\n",
       "\t<li>'indice_tiempo'</li>\n",
       "\t<li>'ipc_nivel_general_nacional'</li>\n",
       "\t<li>'tasas_interes_pm'</li>\n",
       "\t<li>'tipo_cambio_bna_vendedor'</li>\n",
       "\t<li>'rem_ipc_nac_var_ia_t_12'</li>\n",
       "\t<li>'tipo_cambio_real_multilateral_actual'</li>\n",
       "</ol>\n"
      ],
      "text/latex": [
       "\\begin{enumerate*}\n",
       "\\item 'indice\\_tiempo'\n",
       "\\item 'ipc\\_nivel\\_general\\_nacional'\n",
       "\\item 'tasas\\_interes\\_pm'\n",
       "\\item 'tipo\\_cambio\\_bna\\_vendedor'\n",
       "\\item 'rem\\_ipc\\_nac\\_var\\_ia\\_t\\_12'\n",
       "\\item 'tipo\\_cambio\\_real\\_multilateral\\_actual'\n",
       "\\end{enumerate*}\n"
      ],
      "text/markdown": [
       "1. 'indice_tiempo'\n",
       "2. 'ipc_nivel_general_nacional'\n",
       "3. 'tasas_interes_pm'\n",
       "4. 'tipo_cambio_bna_vendedor'\n",
       "5. 'rem_ipc_nac_var_ia_t_12'\n",
       "6. 'tipo_cambio_real_multilateral_actual'\n",
       "\n",
       "\n"
      ],
      "text/plain": [
       "[1] \"indice_tiempo\"                       \n",
       "[2] \"ipc_nivel_general_nacional\"          \n",
       "[3] \"tasas_interes_pm\"                    \n",
       "[4] \"tipo_cambio_bna_vendedor\"            \n",
       "[5] \"rem_ipc_nac_var_ia_t_12\"             \n",
       "[6] \"tipo_cambio_real_multilateral_actual\""
      ]
     },
     "metadata": {},
     "output_type": "display_data"
    }
   ],
   "source": [
    "colnames(df2)"
   ]
  },
  {
   "cell_type": "code",
   "execution_count": 14,
   "metadata": {},
   "outputs": [
    {
     "data": {
      "text/html": [
       "<table>\n",
       "<thead><tr><th scope=col>indice_tiempo</th><th scope=col>ipc_nivel_general_nacional</th><th scope=col>tasas_interes_pm</th><th scope=col>tipo_cambio_bna_vendedor</th><th scope=col>rem_ipc_nac_var_ia_t_12</th><th scope=col>tipo_cambio_real_multilateral_actual</th></tr></thead>\n",
       "<tbody>\n",
       "\t<tr><td>2017-01-01  </td><td>0.01585900  </td><td>24.75000    </td><td> 0.003517234</td><td>0.1970      </td><td> 90.65791   </td></tr>\n",
       "\t<tr><td>2017-02-01  </td><td>0.02067216  </td><td>24.75000    </td><td>-0.020135332</td><td>0.1950      </td><td> 88.83677   </td></tr>\n",
       "\t<tr><td>2017-03-01  </td><td>0.02374190  </td><td>24.75000    </td><td>-0.004182818</td><td>0.1840      </td><td> 86.54637   </td></tr>\n",
       "\t<tr><td>2017-04-01  </td><td>0.02655830  </td><td>25.70000    </td><td>-0.010676656</td><td>0.1751      </td><td> 83.57614   </td></tr>\n",
       "\t<tr><td>2017-05-01  </td><td>0.01434750  </td><td>26.25000    </td><td> 0.023613498</td><td>0.1700      </td><td> 84.02443   </td></tr>\n",
       "\t<tr><td>2017-06-01  </td><td>0.01192073  </td><td>26.25000    </td><td> 0.023845717</td><td>0.1700      </td><td> 84.86319   </td></tr>\n",
       "\t<tr><td>2017-07-01  </td><td>0.01732266  </td><td>26.25000    </td><td> 0.066109731</td><td>0.1710      </td><td> 90.87417   </td></tr>\n",
       "\t<tr><td>2017-08-01  </td><td>0.01403258  </td><td>26.25000    </td><td> 0.014622869</td><td>0.1720      </td><td> 92.30178   </td></tr>\n",
       "\t<tr><td>2017-09-01  </td><td>0.01898045  </td><td>26.25000    </td><td>-0.011230780</td><td>0.1690      </td><td> 90.44356   </td></tr>\n",
       "\t<tr><td>2017-10-01  </td><td>0.01514733  </td><td>26.58871    </td><td> 0.013274022</td><td>0.1730      </td><td> 88.88115   </td></tr>\n",
       "\t<tr><td>2017-11-01  </td><td>0.01375083  </td><td>28.51667    </td><td> 0.001905806</td><td>0.1750      </td><td> 87.22771   </td></tr>\n",
       "\t<tr><td>2017-12-01  </td><td>0.03141974  </td><td>28.75000    </td><td> 0.006644870</td><td>0.1740      </td><td> 86.64583   </td></tr>\n",
       "\t<tr><td>2018-01-01  </td><td>0.01757354  </td><td>28.02419    </td><td> 0.068057261</td><td>0.1860      </td><td> 93.11830   </td></tr>\n",
       "\t<tr><td>2018-02-01  </td><td>0.02419034  </td><td>27.25000    </td><td> 0.042691021</td><td>0.1764      </td><td> 95.78648   </td></tr>\n",
       "\t<tr><td>2018-03-01  </td><td>0.02341063  </td><td>27.25000    </td><td> 0.019872585</td><td>0.1780      </td><td> 95.08458   </td></tr>\n",
       "\t<tr><td>2018-04-01  </td><td>0.02739032  </td><td>27.65000    </td><td> 0.001074931</td><td>0.1820      </td><td> 91.52574   </td></tr>\n",
       "\t<tr><td>2018-05-01  </td><td>0.02075375  </td><td>39.15323    </td><td> 0.165391095</td><td>0.2224      </td><td>100.62604   </td></tr>\n",
       "\t<tr><td>2018-06-01  </td><td>0.03736676  </td><td>40.00000    </td><td> 0.130246733</td><td>0.2415      </td><td>108.41812   </td></tr>\n",
       "\t<tr><td>2018-07-01  </td><td>0.03101613  </td><td>40.00000    </td><td> 0.034989134</td><td>0.2370      </td><td>108.56195   </td></tr>\n",
       "\t<tr><td>2018-08-01  </td><td>0.03889439  </td><td>44.03226    </td><td> 0.084394575</td><td>0.3150      </td><td>112.35245   </td></tr>\n",
       "\t<tr><td>2018-09-01  </td><td>0.06534286  </td><td>60.50000    </td><td> 0.285877677</td><td>0.3190      </td><td>135.58553   </td></tr>\n",
       "\t<tr><td>2018-10-01  </td><td>        NA  </td><td>71.83500    </td><td>-0.038075165</td><td>0.3060      </td><td>126.68329   </td></tr>\n",
       "</tbody>\n",
       "</table>\n"
      ],
      "text/latex": [
       "\\begin{tabular}{r|llllll}\n",
       " indice\\_tiempo & ipc\\_nivel\\_general\\_nacional & tasas\\_interes\\_pm & tipo\\_cambio\\_bna\\_vendedor & rem\\_ipc\\_nac\\_var\\_ia\\_t\\_12 & tipo\\_cambio\\_real\\_multilateral\\_actual\\\\\n",
       "\\hline\n",
       "\t 2017-01-01   & 0.01585900   & 24.75000     &  0.003517234 & 0.1970       &  90.65791   \\\\\n",
       "\t 2017-02-01   & 0.02067216   & 24.75000     & -0.020135332 & 0.1950       &  88.83677   \\\\\n",
       "\t 2017-03-01   & 0.02374190   & 24.75000     & -0.004182818 & 0.1840       &  86.54637   \\\\\n",
       "\t 2017-04-01   & 0.02655830   & 25.70000     & -0.010676656 & 0.1751       &  83.57614   \\\\\n",
       "\t 2017-05-01   & 0.01434750   & 26.25000     &  0.023613498 & 0.1700       &  84.02443   \\\\\n",
       "\t 2017-06-01   & 0.01192073   & 26.25000     &  0.023845717 & 0.1700       &  84.86319   \\\\\n",
       "\t 2017-07-01   & 0.01732266   & 26.25000     &  0.066109731 & 0.1710       &  90.87417   \\\\\n",
       "\t 2017-08-01   & 0.01403258   & 26.25000     &  0.014622869 & 0.1720       &  92.30178   \\\\\n",
       "\t 2017-09-01   & 0.01898045   & 26.25000     & -0.011230780 & 0.1690       &  90.44356   \\\\\n",
       "\t 2017-10-01   & 0.01514733   & 26.58871     &  0.013274022 & 0.1730       &  88.88115   \\\\\n",
       "\t 2017-11-01   & 0.01375083   & 28.51667     &  0.001905806 & 0.1750       &  87.22771   \\\\\n",
       "\t 2017-12-01   & 0.03141974   & 28.75000     &  0.006644870 & 0.1740       &  86.64583   \\\\\n",
       "\t 2018-01-01   & 0.01757354   & 28.02419     &  0.068057261 & 0.1860       &  93.11830   \\\\\n",
       "\t 2018-02-01   & 0.02419034   & 27.25000     &  0.042691021 & 0.1764       &  95.78648   \\\\\n",
       "\t 2018-03-01   & 0.02341063   & 27.25000     &  0.019872585 & 0.1780       &  95.08458   \\\\\n",
       "\t 2018-04-01   & 0.02739032   & 27.65000     &  0.001074931 & 0.1820       &  91.52574   \\\\\n",
       "\t 2018-05-01   & 0.02075375   & 39.15323     &  0.165391095 & 0.2224       & 100.62604   \\\\\n",
       "\t 2018-06-01   & 0.03736676   & 40.00000     &  0.130246733 & 0.2415       & 108.41812   \\\\\n",
       "\t 2018-07-01   & 0.03101613   & 40.00000     &  0.034989134 & 0.2370       & 108.56195   \\\\\n",
       "\t 2018-08-01   & 0.03889439   & 44.03226     &  0.084394575 & 0.3150       & 112.35245   \\\\\n",
       "\t 2018-09-01   & 0.06534286   & 60.50000     &  0.285877677 & 0.3190       & 135.58553   \\\\\n",
       "\t 2018-10-01   &         NA   & 71.83500     & -0.038075165 & 0.3060       & 126.68329   \\\\\n",
       "\\end{tabular}\n"
      ],
      "text/markdown": [
       "\n",
       "indice_tiempo | ipc_nivel_general_nacional | tasas_interes_pm | tipo_cambio_bna_vendedor | rem_ipc_nac_var_ia_t_12 | tipo_cambio_real_multilateral_actual | \n",
       "|---|---|---|---|---|---|---|---|---|---|---|---|---|---|---|---|---|---|---|---|---|---|\n",
       "| 2017-01-01   | 0.01585900   | 24.75000     |  0.003517234 | 0.1970       |  90.65791    | \n",
       "| 2017-02-01   | 0.02067216   | 24.75000     | -0.020135332 | 0.1950       |  88.83677    | \n",
       "| 2017-03-01   | 0.02374190   | 24.75000     | -0.004182818 | 0.1840       |  86.54637    | \n",
       "| 2017-04-01   | 0.02655830   | 25.70000     | -0.010676656 | 0.1751       |  83.57614    | \n",
       "| 2017-05-01   | 0.01434750   | 26.25000     |  0.023613498 | 0.1700       |  84.02443    | \n",
       "| 2017-06-01   | 0.01192073   | 26.25000     |  0.023845717 | 0.1700       |  84.86319    | \n",
       "| 2017-07-01   | 0.01732266   | 26.25000     |  0.066109731 | 0.1710       |  90.87417    | \n",
       "| 2017-08-01   | 0.01403258   | 26.25000     |  0.014622869 | 0.1720       |  92.30178    | \n",
       "| 2017-09-01   | 0.01898045   | 26.25000     | -0.011230780 | 0.1690       |  90.44356    | \n",
       "| 2017-10-01   | 0.01514733   | 26.58871     |  0.013274022 | 0.1730       |  88.88115    | \n",
       "| 2017-11-01   | 0.01375083   | 28.51667     |  0.001905806 | 0.1750       |  87.22771    | \n",
       "| 2017-12-01   | 0.03141974   | 28.75000     |  0.006644870 | 0.1740       |  86.64583    | \n",
       "| 2018-01-01   | 0.01757354   | 28.02419     |  0.068057261 | 0.1860       |  93.11830    | \n",
       "| 2018-02-01   | 0.02419034   | 27.25000     |  0.042691021 | 0.1764       |  95.78648    | \n",
       "| 2018-03-01   | 0.02341063   | 27.25000     |  0.019872585 | 0.1780       |  95.08458    | \n",
       "| 2018-04-01   | 0.02739032   | 27.65000     |  0.001074931 | 0.1820       |  91.52574    | \n",
       "| 2018-05-01   | 0.02075375   | 39.15323     |  0.165391095 | 0.2224       | 100.62604    | \n",
       "| 2018-06-01   | 0.03736676   | 40.00000     |  0.130246733 | 0.2415       | 108.41812    | \n",
       "| 2018-07-01   | 0.03101613   | 40.00000     |  0.034989134 | 0.2370       | 108.56195    | \n",
       "| 2018-08-01   | 0.03889439   | 44.03226     |  0.084394575 | 0.3150       | 112.35245    | \n",
       "| 2018-09-01   | 0.06534286   | 60.50000     |  0.285877677 | 0.3190       | 135.58553    | \n",
       "| 2018-10-01   |         NA   | 71.83500     | -0.038075165 | 0.3060       | 126.68329    | \n",
       "\n",
       "\n"
      ],
      "text/plain": [
       "   indice_tiempo ipc_nivel_general_nacional tasas_interes_pm\n",
       "1  2017-01-01    0.01585900                 24.75000        \n",
       "2  2017-02-01    0.02067216                 24.75000        \n",
       "3  2017-03-01    0.02374190                 24.75000        \n",
       "4  2017-04-01    0.02655830                 25.70000        \n",
       "5  2017-05-01    0.01434750                 26.25000        \n",
       "6  2017-06-01    0.01192073                 26.25000        \n",
       "7  2017-07-01    0.01732266                 26.25000        \n",
       "8  2017-08-01    0.01403258                 26.25000        \n",
       "9  2017-09-01    0.01898045                 26.25000        \n",
       "10 2017-10-01    0.01514733                 26.58871        \n",
       "11 2017-11-01    0.01375083                 28.51667        \n",
       "12 2017-12-01    0.03141974                 28.75000        \n",
       "13 2018-01-01    0.01757354                 28.02419        \n",
       "14 2018-02-01    0.02419034                 27.25000        \n",
       "15 2018-03-01    0.02341063                 27.25000        \n",
       "16 2018-04-01    0.02739032                 27.65000        \n",
       "17 2018-05-01    0.02075375                 39.15323        \n",
       "18 2018-06-01    0.03736676                 40.00000        \n",
       "19 2018-07-01    0.03101613                 40.00000        \n",
       "20 2018-08-01    0.03889439                 44.03226        \n",
       "21 2018-09-01    0.06534286                 60.50000        \n",
       "22 2018-10-01            NA                 71.83500        \n",
       "   tipo_cambio_bna_vendedor rem_ipc_nac_var_ia_t_12\n",
       "1   0.003517234             0.1970                 \n",
       "2  -0.020135332             0.1950                 \n",
       "3  -0.004182818             0.1840                 \n",
       "4  -0.010676656             0.1751                 \n",
       "5   0.023613498             0.1700                 \n",
       "6   0.023845717             0.1700                 \n",
       "7   0.066109731             0.1710                 \n",
       "8   0.014622869             0.1720                 \n",
       "9  -0.011230780             0.1690                 \n",
       "10  0.013274022             0.1730                 \n",
       "11  0.001905806             0.1750                 \n",
       "12  0.006644870             0.1740                 \n",
       "13  0.068057261             0.1860                 \n",
       "14  0.042691021             0.1764                 \n",
       "15  0.019872585             0.1780                 \n",
       "16  0.001074931             0.1820                 \n",
       "17  0.165391095             0.2224                 \n",
       "18  0.130246733             0.2415                 \n",
       "19  0.034989134             0.2370                 \n",
       "20  0.084394575             0.3150                 \n",
       "21  0.285877677             0.3190                 \n",
       "22 -0.038075165             0.3060                 \n",
       "   tipo_cambio_real_multilateral_actual\n",
       "1   90.65791                           \n",
       "2   88.83677                           \n",
       "3   86.54637                           \n",
       "4   83.57614                           \n",
       "5   84.02443                           \n",
       "6   84.86319                           \n",
       "7   90.87417                           \n",
       "8   92.30178                           \n",
       "9   90.44356                           \n",
       "10  88.88115                           \n",
       "11  87.22771                           \n",
       "12  86.64583                           \n",
       "13  93.11830                           \n",
       "14  95.78648                           \n",
       "15  95.08458                           \n",
       "16  91.52574                           \n",
       "17 100.62604                           \n",
       "18 108.41812                           \n",
       "19 108.56195                           \n",
       "20 112.35245                           \n",
       "21 135.58553                           \n",
       "22 126.68329                           "
      ]
     },
     "metadata": {},
     "output_type": "display_data"
    }
   ],
   "source": [
    "df2"
   ]
  },
  {
   "cell_type": "markdown",
   "metadata": {},
   "source": [
    "b. Usar el método lasso (librería `glmnet`) para encontrar el mejor modelo posible entre estas variables.\n",
    "\n",
    "    b1. install.packages(\"glmnet\", repos = \"http://cran.us.r-project.org\"); library(glmnet)  (Instala y carga glmnet)\n",
    "    b2. Remover las filas que tengan algún valor nulo. Hint: * = *[complete.cases(*), ]\n",
    "    b3. Crear una matriz de predictores x (sin la variable a predecir). Hint: x = data.matrix(subset(*, select=c(\"*\", \"*\", \"*\")))\n",
    "    b4. Correr lasso usando cross validation. Hint: cvfit = cv.glmnet(x, y)\n",
    "    b5. Encontrar los coeficientes del modelo que minimiza el error de predicción. Hint: coef(cvfit, s = \"lambda.min\")"
   ]
  },
  {
   "cell_type": "code",
   "execution_count": 15,
   "metadata": {},
   "outputs": [
    {
     "name": "stderr",
     "output_type": "stream",
     "text": [
      "Updating HTML index of packages in '.Library'\n",
      "Making 'packages.html' ... done\n",
      "Loading required package: Matrix\n",
      "Loading required package: foreach\n",
      "Loaded glmnet 2.0-16\n",
      "\n"
     ]
    }
   ],
   "source": [
    "install.packages(\"glmnet\", repos = \"http://cran.us.r-project.org\"); library(glmnet)"
   ]
  },
  {
   "cell_type": "code",
   "execution_count": 16,
   "metadata": {},
   "outputs": [],
   "source": [
    "df2 = df2[complete.cases(df2), ]"
   ]
  },
  {
   "cell_type": "code",
   "execution_count": 17,
   "metadata": {},
   "outputs": [
    {
     "data": {
      "text/html": [
       "<table>\n",
       "<thead><tr><th scope=col>indice_tiempo</th><th scope=col>ipc_nivel_general_nacional</th><th scope=col>tasas_interes_pm</th><th scope=col>tipo_cambio_bna_vendedor</th><th scope=col>rem_ipc_nac_var_ia_t_12</th><th scope=col>tipo_cambio_real_multilateral_actual</th></tr></thead>\n",
       "<tbody>\n",
       "\t<tr><td>2017-01-01  </td><td>0.01585900  </td><td>24.75000    </td><td> 0.003517234</td><td>0.1970      </td><td> 90.65791   </td></tr>\n",
       "\t<tr><td>2017-02-01  </td><td>0.02067216  </td><td>24.75000    </td><td>-0.020135332</td><td>0.1950      </td><td> 88.83677   </td></tr>\n",
       "\t<tr><td>2017-03-01  </td><td>0.02374190  </td><td>24.75000    </td><td>-0.004182818</td><td>0.1840      </td><td> 86.54637   </td></tr>\n",
       "\t<tr><td>2017-04-01  </td><td>0.02655830  </td><td>25.70000    </td><td>-0.010676656</td><td>0.1751      </td><td> 83.57614   </td></tr>\n",
       "\t<tr><td>2017-05-01  </td><td>0.01434750  </td><td>26.25000    </td><td> 0.023613498</td><td>0.1700      </td><td> 84.02443   </td></tr>\n",
       "\t<tr><td>2017-06-01  </td><td>0.01192073  </td><td>26.25000    </td><td> 0.023845717</td><td>0.1700      </td><td> 84.86319   </td></tr>\n",
       "\t<tr><td>2017-07-01  </td><td>0.01732266  </td><td>26.25000    </td><td> 0.066109731</td><td>0.1710      </td><td> 90.87417   </td></tr>\n",
       "\t<tr><td>2017-08-01  </td><td>0.01403258  </td><td>26.25000    </td><td> 0.014622869</td><td>0.1720      </td><td> 92.30178   </td></tr>\n",
       "\t<tr><td>2017-09-01  </td><td>0.01898045  </td><td>26.25000    </td><td>-0.011230780</td><td>0.1690      </td><td> 90.44356   </td></tr>\n",
       "\t<tr><td>2017-10-01  </td><td>0.01514733  </td><td>26.58871    </td><td> 0.013274022</td><td>0.1730      </td><td> 88.88115   </td></tr>\n",
       "\t<tr><td>2017-11-01  </td><td>0.01375083  </td><td>28.51667    </td><td> 0.001905806</td><td>0.1750      </td><td> 87.22771   </td></tr>\n",
       "\t<tr><td>2017-12-01  </td><td>0.03141974  </td><td>28.75000    </td><td> 0.006644870</td><td>0.1740      </td><td> 86.64583   </td></tr>\n",
       "\t<tr><td>2018-01-01  </td><td>0.01757354  </td><td>28.02419    </td><td> 0.068057261</td><td>0.1860      </td><td> 93.11830   </td></tr>\n",
       "\t<tr><td>2018-02-01  </td><td>0.02419034  </td><td>27.25000    </td><td> 0.042691021</td><td>0.1764      </td><td> 95.78648   </td></tr>\n",
       "\t<tr><td>2018-03-01  </td><td>0.02341063  </td><td>27.25000    </td><td> 0.019872585</td><td>0.1780      </td><td> 95.08458   </td></tr>\n",
       "\t<tr><td>2018-04-01  </td><td>0.02739032  </td><td>27.65000    </td><td> 0.001074931</td><td>0.1820      </td><td> 91.52574   </td></tr>\n",
       "\t<tr><td>2018-05-01  </td><td>0.02075375  </td><td>39.15323    </td><td> 0.165391095</td><td>0.2224      </td><td>100.62604   </td></tr>\n",
       "\t<tr><td>2018-06-01  </td><td>0.03736676  </td><td>40.00000    </td><td> 0.130246733</td><td>0.2415      </td><td>108.41812   </td></tr>\n",
       "\t<tr><td>2018-07-01  </td><td>0.03101613  </td><td>40.00000    </td><td> 0.034989134</td><td>0.2370      </td><td>108.56195   </td></tr>\n",
       "\t<tr><td>2018-08-01  </td><td>0.03889439  </td><td>44.03226    </td><td> 0.084394575</td><td>0.3150      </td><td>112.35245   </td></tr>\n",
       "\t<tr><td>2018-09-01  </td><td>0.06534286  </td><td>60.50000    </td><td> 0.285877677</td><td>0.3190      </td><td>135.58553   </td></tr>\n",
       "</tbody>\n",
       "</table>\n"
      ],
      "text/latex": [
       "\\begin{tabular}{r|llllll}\n",
       " indice\\_tiempo & ipc\\_nivel\\_general\\_nacional & tasas\\_interes\\_pm & tipo\\_cambio\\_bna\\_vendedor & rem\\_ipc\\_nac\\_var\\_ia\\_t\\_12 & tipo\\_cambio\\_real\\_multilateral\\_actual\\\\\n",
       "\\hline\n",
       "\t 2017-01-01   & 0.01585900   & 24.75000     &  0.003517234 & 0.1970       &  90.65791   \\\\\n",
       "\t 2017-02-01   & 0.02067216   & 24.75000     & -0.020135332 & 0.1950       &  88.83677   \\\\\n",
       "\t 2017-03-01   & 0.02374190   & 24.75000     & -0.004182818 & 0.1840       &  86.54637   \\\\\n",
       "\t 2017-04-01   & 0.02655830   & 25.70000     & -0.010676656 & 0.1751       &  83.57614   \\\\\n",
       "\t 2017-05-01   & 0.01434750   & 26.25000     &  0.023613498 & 0.1700       &  84.02443   \\\\\n",
       "\t 2017-06-01   & 0.01192073   & 26.25000     &  0.023845717 & 0.1700       &  84.86319   \\\\\n",
       "\t 2017-07-01   & 0.01732266   & 26.25000     &  0.066109731 & 0.1710       &  90.87417   \\\\\n",
       "\t 2017-08-01   & 0.01403258   & 26.25000     &  0.014622869 & 0.1720       &  92.30178   \\\\\n",
       "\t 2017-09-01   & 0.01898045   & 26.25000     & -0.011230780 & 0.1690       &  90.44356   \\\\\n",
       "\t 2017-10-01   & 0.01514733   & 26.58871     &  0.013274022 & 0.1730       &  88.88115   \\\\\n",
       "\t 2017-11-01   & 0.01375083   & 28.51667     &  0.001905806 & 0.1750       &  87.22771   \\\\\n",
       "\t 2017-12-01   & 0.03141974   & 28.75000     &  0.006644870 & 0.1740       &  86.64583   \\\\\n",
       "\t 2018-01-01   & 0.01757354   & 28.02419     &  0.068057261 & 0.1860       &  93.11830   \\\\\n",
       "\t 2018-02-01   & 0.02419034   & 27.25000     &  0.042691021 & 0.1764       &  95.78648   \\\\\n",
       "\t 2018-03-01   & 0.02341063   & 27.25000     &  0.019872585 & 0.1780       &  95.08458   \\\\\n",
       "\t 2018-04-01   & 0.02739032   & 27.65000     &  0.001074931 & 0.1820       &  91.52574   \\\\\n",
       "\t 2018-05-01   & 0.02075375   & 39.15323     &  0.165391095 & 0.2224       & 100.62604   \\\\\n",
       "\t 2018-06-01   & 0.03736676   & 40.00000     &  0.130246733 & 0.2415       & 108.41812   \\\\\n",
       "\t 2018-07-01   & 0.03101613   & 40.00000     &  0.034989134 & 0.2370       & 108.56195   \\\\\n",
       "\t 2018-08-01   & 0.03889439   & 44.03226     &  0.084394575 & 0.3150       & 112.35245   \\\\\n",
       "\t 2018-09-01   & 0.06534286   & 60.50000     &  0.285877677 & 0.3190       & 135.58553   \\\\\n",
       "\\end{tabular}\n"
      ],
      "text/markdown": [
       "\n",
       "indice_tiempo | ipc_nivel_general_nacional | tasas_interes_pm | tipo_cambio_bna_vendedor | rem_ipc_nac_var_ia_t_12 | tipo_cambio_real_multilateral_actual | \n",
       "|---|---|---|---|---|---|---|---|---|---|---|---|---|---|---|---|---|---|---|---|---|\n",
       "| 2017-01-01   | 0.01585900   | 24.75000     |  0.003517234 | 0.1970       |  90.65791    | \n",
       "| 2017-02-01   | 0.02067216   | 24.75000     | -0.020135332 | 0.1950       |  88.83677    | \n",
       "| 2017-03-01   | 0.02374190   | 24.75000     | -0.004182818 | 0.1840       |  86.54637    | \n",
       "| 2017-04-01   | 0.02655830   | 25.70000     | -0.010676656 | 0.1751       |  83.57614    | \n",
       "| 2017-05-01   | 0.01434750   | 26.25000     |  0.023613498 | 0.1700       |  84.02443    | \n",
       "| 2017-06-01   | 0.01192073   | 26.25000     |  0.023845717 | 0.1700       |  84.86319    | \n",
       "| 2017-07-01   | 0.01732266   | 26.25000     |  0.066109731 | 0.1710       |  90.87417    | \n",
       "| 2017-08-01   | 0.01403258   | 26.25000     |  0.014622869 | 0.1720       |  92.30178    | \n",
       "| 2017-09-01   | 0.01898045   | 26.25000     | -0.011230780 | 0.1690       |  90.44356    | \n",
       "| 2017-10-01   | 0.01514733   | 26.58871     |  0.013274022 | 0.1730       |  88.88115    | \n",
       "| 2017-11-01   | 0.01375083   | 28.51667     |  0.001905806 | 0.1750       |  87.22771    | \n",
       "| 2017-12-01   | 0.03141974   | 28.75000     |  0.006644870 | 0.1740       |  86.64583    | \n",
       "| 2018-01-01   | 0.01757354   | 28.02419     |  0.068057261 | 0.1860       |  93.11830    | \n",
       "| 2018-02-01   | 0.02419034   | 27.25000     |  0.042691021 | 0.1764       |  95.78648    | \n",
       "| 2018-03-01   | 0.02341063   | 27.25000     |  0.019872585 | 0.1780       |  95.08458    | \n",
       "| 2018-04-01   | 0.02739032   | 27.65000     |  0.001074931 | 0.1820       |  91.52574    | \n",
       "| 2018-05-01   | 0.02075375   | 39.15323     |  0.165391095 | 0.2224       | 100.62604    | \n",
       "| 2018-06-01   | 0.03736676   | 40.00000     |  0.130246733 | 0.2415       | 108.41812    | \n",
       "| 2018-07-01   | 0.03101613   | 40.00000     |  0.034989134 | 0.2370       | 108.56195    | \n",
       "| 2018-08-01   | 0.03889439   | 44.03226     |  0.084394575 | 0.3150       | 112.35245    | \n",
       "| 2018-09-01   | 0.06534286   | 60.50000     |  0.285877677 | 0.3190       | 135.58553    | \n",
       "\n",
       "\n"
      ],
      "text/plain": [
       "   indice_tiempo ipc_nivel_general_nacional tasas_interes_pm\n",
       "1  2017-01-01    0.01585900                 24.75000        \n",
       "2  2017-02-01    0.02067216                 24.75000        \n",
       "3  2017-03-01    0.02374190                 24.75000        \n",
       "4  2017-04-01    0.02655830                 25.70000        \n",
       "5  2017-05-01    0.01434750                 26.25000        \n",
       "6  2017-06-01    0.01192073                 26.25000        \n",
       "7  2017-07-01    0.01732266                 26.25000        \n",
       "8  2017-08-01    0.01403258                 26.25000        \n",
       "9  2017-09-01    0.01898045                 26.25000        \n",
       "10 2017-10-01    0.01514733                 26.58871        \n",
       "11 2017-11-01    0.01375083                 28.51667        \n",
       "12 2017-12-01    0.03141974                 28.75000        \n",
       "13 2018-01-01    0.01757354                 28.02419        \n",
       "14 2018-02-01    0.02419034                 27.25000        \n",
       "15 2018-03-01    0.02341063                 27.25000        \n",
       "16 2018-04-01    0.02739032                 27.65000        \n",
       "17 2018-05-01    0.02075375                 39.15323        \n",
       "18 2018-06-01    0.03736676                 40.00000        \n",
       "19 2018-07-01    0.03101613                 40.00000        \n",
       "20 2018-08-01    0.03889439                 44.03226        \n",
       "21 2018-09-01    0.06534286                 60.50000        \n",
       "   tipo_cambio_bna_vendedor rem_ipc_nac_var_ia_t_12\n",
       "1   0.003517234             0.1970                 \n",
       "2  -0.020135332             0.1950                 \n",
       "3  -0.004182818             0.1840                 \n",
       "4  -0.010676656             0.1751                 \n",
       "5   0.023613498             0.1700                 \n",
       "6   0.023845717             0.1700                 \n",
       "7   0.066109731             0.1710                 \n",
       "8   0.014622869             0.1720                 \n",
       "9  -0.011230780             0.1690                 \n",
       "10  0.013274022             0.1730                 \n",
       "11  0.001905806             0.1750                 \n",
       "12  0.006644870             0.1740                 \n",
       "13  0.068057261             0.1860                 \n",
       "14  0.042691021             0.1764                 \n",
       "15  0.019872585             0.1780                 \n",
       "16  0.001074931             0.1820                 \n",
       "17  0.165391095             0.2224                 \n",
       "18  0.130246733             0.2415                 \n",
       "19  0.034989134             0.2370                 \n",
       "20  0.084394575             0.3150                 \n",
       "21  0.285877677             0.3190                 \n",
       "   tipo_cambio_real_multilateral_actual\n",
       "1   90.65791                           \n",
       "2   88.83677                           \n",
       "3   86.54637                           \n",
       "4   83.57614                           \n",
       "5   84.02443                           \n",
       "6   84.86319                           \n",
       "7   90.87417                           \n",
       "8   92.30178                           \n",
       "9   90.44356                           \n",
       "10  88.88115                           \n",
       "11  87.22771                           \n",
       "12  86.64583                           \n",
       "13  93.11830                           \n",
       "14  95.78648                           \n",
       "15  95.08458                           \n",
       "16  91.52574                           \n",
       "17 100.62604                           \n",
       "18 108.41812                           \n",
       "19 108.56195                           \n",
       "20 112.35245                           \n",
       "21 135.58553                           "
      ]
     },
     "metadata": {},
     "output_type": "display_data"
    }
   ],
   "source": [
    "df2"
   ]
  },
  {
   "cell_type": "code",
   "execution_count": 18,
   "metadata": {},
   "outputs": [
    {
     "data": {
      "text/html": [
       "<ol class=list-inline>\n",
       "\t<li>'indice_tiempo'</li>\n",
       "\t<li>'ipc_nivel_general_nacional'</li>\n",
       "\t<li>'tasas_interes_pm'</li>\n",
       "\t<li>'tipo_cambio_bna_vendedor'</li>\n",
       "\t<li>'rem_ipc_nac_var_ia_t_12'</li>\n",
       "\t<li>'tipo_cambio_real_multilateral_actual'</li>\n",
       "</ol>\n"
      ],
      "text/latex": [
       "\\begin{enumerate*}\n",
       "\\item 'indice\\_tiempo'\n",
       "\\item 'ipc\\_nivel\\_general\\_nacional'\n",
       "\\item 'tasas\\_interes\\_pm'\n",
       "\\item 'tipo\\_cambio\\_bna\\_vendedor'\n",
       "\\item 'rem\\_ipc\\_nac\\_var\\_ia\\_t\\_12'\n",
       "\\item 'tipo\\_cambio\\_real\\_multilateral\\_actual'\n",
       "\\end{enumerate*}\n"
      ],
      "text/markdown": [
       "1. 'indice_tiempo'\n",
       "2. 'ipc_nivel_general_nacional'\n",
       "3. 'tasas_interes_pm'\n",
       "4. 'tipo_cambio_bna_vendedor'\n",
       "5. 'rem_ipc_nac_var_ia_t_12'\n",
       "6. 'tipo_cambio_real_multilateral_actual'\n",
       "\n",
       "\n"
      ],
      "text/plain": [
       "[1] \"indice_tiempo\"                       \n",
       "[2] \"ipc_nivel_general_nacional\"          \n",
       "[3] \"tasas_interes_pm\"                    \n",
       "[4] \"tipo_cambio_bna_vendedor\"            \n",
       "[5] \"rem_ipc_nac_var_ia_t_12\"             \n",
       "[6] \"tipo_cambio_real_multilateral_actual\""
      ]
     },
     "metadata": {},
     "output_type": "display_data"
    }
   ],
   "source": [
    "colnames(df2)"
   ]
  },
  {
   "cell_type": "code",
   "execution_count": 19,
   "metadata": {},
   "outputs": [],
   "source": [
    "predictors = subset(df2, select=c(\"tasas_interes_pm\", \"tipo_cambio_bna_vendedor\", \"rem_ipc_nac_var_ia_t_12\"))\n",
    "x = data.matrix(predictors)\n",
    "y = df2$ipc_nivel_general_nacional"
   ]
  },
  {
   "cell_type": "code",
   "execution_count": 20,
   "metadata": {},
   "outputs": [
    {
     "name": "stderr",
     "output_type": "stream",
     "text": [
      "Warning message:\n",
      "“Option grouped=FALSE enforced in cv.glmnet, since < 3 observations per fold”"
     ]
    }
   ],
   "source": [
    "cvfit = cv.glmnet(x, y)"
   ]
  },
  {
   "cell_type": "code",
   "execution_count": 21,
   "metadata": {},
   "outputs": [
    {
     "data": {
      "image/png": "[encoded data removed]",
      "text/plain": [
       "plot without title"
      ]
     },
     "metadata": {},
     "output_type": "display_data"
    }
   ],
   "source": [
    "plot(cvfit)"
   ]
  },
  {
   "cell_type": "code",
   "execution_count": 22,
   "metadata": {},
   "outputs": [
    {
     "data": {
      "text/html": [
       "0.000836805298067895"
      ],
      "text/latex": [
       "0.000836805298067895"
      ],
      "text/markdown": [
       "0.000836805298067895"
      ],
      "text/plain": [
       "[1] 0.0008368053"
      ]
     },
     "metadata": {},
     "output_type": "display_data"
    }
   ],
   "source": [
    "cvfit$lambda.min"
   ]
  },
  {
   "cell_type": "code",
   "execution_count": 23,
   "metadata": {},
   "outputs": [
    {
     "data": {
      "text/html": [
       "0.00337819742599459"
      ],
      "text/latex": [
       "0.00337819742599459"
      ],
      "text/markdown": [
       "0.00337819742599459"
      ],
      "text/plain": [
       "[1] 0.003378197"
      ]
     },
     "metadata": {},
     "output_type": "display_data"
    }
   ],
   "source": [
    "cvfit$lambda.1se"
   ]
  },
  {
   "cell_type": "code",
   "execution_count": 24,
   "metadata": {},
   "outputs": [
    {
     "data": {
      "text/plain": [
       "4 x 1 sparse Matrix of class \"dgCMatrix\"\n",
       "                                     1\n",
       "(Intercept)              -0.0111626705\n",
       "tasas_interes_pm          0.0009288312\n",
       "tipo_cambio_bna_vendedor  .           \n",
       "rem_ipc_nac_var_ia_t_12   0.0338024639"
      ]
     },
     "metadata": {},
     "output_type": "display_data"
    }
   ],
   "source": [
    "coef(cvfit, s = \"lambda.min\")"
   ]
  },
  {
   "cell_type": "code",
   "execution_count": 25,
   "metadata": {},
   "outputs": [
    {
     "data": {
      "text/plain": [
       "4 x 1 sparse Matrix of class \"dgCMatrix\"\n",
       "                                     1\n",
       "(Intercept)              -0.0004582777\n",
       "tasas_interes_pm          0.0007777370\n",
       "tipo_cambio_bna_vendedor  .           \n",
       "rem_ipc_nac_var_ia_t_12   0.0034981108"
      ]
     },
     "metadata": {},
     "output_type": "display_data"
    }
   ],
   "source": [
    "coef(cvfit, s = \"lambda.1se\")"
   ]
  },
  {
   "cell_type": "markdown",
   "metadata": {},
   "source": [
    "c. Comparar la predicción del modelo con la realidad en un plot. Hint: plot(y, predict(cvfit, newx = *, s = \"lambda.min\"))"
   ]
  },
  {
   "cell_type": "code",
   "execution_count": 26,
   "metadata": {},
   "outputs": [],
   "source": [
    "y_predict = predict(cvfit, newx = x, s = \"lambda.min\")"
   ]
  },
  {
   "cell_type": "code",
   "execution_count": 27,
   "metadata": {},
   "outputs": [
    {
     "data": {
      "image/png": "[encoded data removed]",
      "text/plain": [
       "plot without title"
      ]
     },
     "metadata": {},
     "output_type": "display_data"
    }
   ],
   "source": [
    "plot(y, y_predict)"
   ]
  },
  {
   "cell_type": "markdown",
   "metadata": {},
   "source": [
    "d. Calcular el R2 de un ajuste lineal tradicional sobre este modelo y comparar los coeficientes.\n",
    "\n",
    "Hint: `summary(lm(* ~ * + *))`"
   ]
  },
  {
   "cell_type": "code",
   "execution_count": 28,
   "metadata": {},
   "outputs": [
    {
     "data": {
      "text/plain": [
       "\n",
       "Call:\n",
       "lm(formula = df2$ipc_nivel_general_nacional ~ df2$tasas_interes_pm + \n",
       "    df2$rem_ipc_nac_var_ia_t_12)\n",
       "\n",
       "Residuals:\n",
       "      Min        1Q    Median        3Q       Max \n",
       "-0.012602 -0.003812 -0.001163  0.004489  0.010360 \n",
       "\n",
       "Coefficients:\n",
       "                              Estimate Std. Error t value Pr(>|t|)  \n",
       "(Intercept)                 -0.0146997  0.0068576  -2.144   0.0460 *\n",
       "df2$tasas_interes_pm         0.0009765  0.0004098   2.383   0.0284 *\n",
       "df2$rem_ipc_nac_var_ia_t_12  0.0441606  0.0822485   0.537   0.5979  \n",
       "---\n",
       "Signif. codes:  0 ‘***’ 0.001 ‘**’ 0.01 ‘*’ 0.05 ‘.’ 0.1 ‘ ’ 1\n",
       "\n",
       "Residual standard error: 0.00626 on 18 degrees of freedom\n",
       "Multiple R-squared:  0.761,\tAdjusted R-squared:  0.7345 \n",
       "F-statistic: 28.66 on 2 and 18 DF,  p-value: 2.543e-06\n"
      ]
     },
     "metadata": {},
     "output_type": "display_data"
    }
   ],
   "source": [
    "summary(lm(\n",
    "    df2$ipc_nivel_general_nacional ~ \n",
    "    df2$tasas_interes_pm +\n",
    "    df2$rem_ipc_nac_var_ia_t_12\n",
    "))"
   ]
  },
  {
   "cell_type": "code",
   "execution_count": null,
   "metadata": {},
   "outputs": [],
   "source": []
  }
 ],
 "metadata": {
  "kernelspec": {
   "display_name": "R",
   "language": "R",
   "name": "ir"
  },
  "language_info": {
   "codemirror_mode": "r",
   "file_extension": ".r",
   "mimetype": "text/x-r-source",
   "name": "R",
   "pygments_lexer": "r",
   "version": "3.4.1"
  },
  "toc": {
   "colors": {
    "hover_highlight": "#DAA520",
    "running_highlight": "#FF0000",
    "selected_highlight": "#FFD700"
   },
   "moveMenuLeft": true,
   "nav_menu": {
    "height": "120px",
    "width": "252px"
   },
   "navigate_menu": true,
   "number_sections": true,
   "sideBar": true,
   "threshold": 4,
   "toc_cell": false,
   "toc_section_display": "none",
   "toc_window_display": false
  }
 },
 "nbformat": 4,
 "nbformat_minor": 2
}
